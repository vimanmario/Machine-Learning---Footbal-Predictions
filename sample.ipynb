{
 "cells": [
  {
   "cell_type": "code",
   "execution_count": 8,
   "id": "initial_id",
   "metadata": {
    "collapsed": true,
    "ExecuteTime": {
     "end_time": "2024-04-16T15:09:44.241252Z",
     "start_time": "2024-04-16T15:09:44.235251Z"
    }
   },
   "outputs": [],
   "source": [
    "import pandas as pd\n",
    "import sqlite3\n",
    "import re"
   ]
  },
  {
   "cell_type": "code",
   "outputs": [],
   "source": [
    "#incarcam datele\n",
    "results = pd.read_csv(\"results.csv\")\n",
    "shootouts = pd.read_csv(\"shootouts.csv\")"
   ],
   "metadata": {
    "collapsed": false,
    "ExecuteTime": {
     "end_time": "2024-04-16T15:09:44.320327Z",
     "start_time": "2024-04-16T15:09:44.244251Z"
    }
   },
   "id": "c0aae26fd0c30a05",
   "execution_count": 9
  },
  {
   "cell_type": "code",
   "outputs": [],
   "source": [
    "def connect_to_database(database_name):\n",
    "    conn = sqlite3.connect(database_name)\n",
    "    cursor = conn.cursor()\n",
    "    return conn, cursor\n",
    "\n",
    "# Conectare la baza de date\n",
    "conn, cursor = connect_to_database('football.db')\n",
    "\n",
    "results.to_sql('results',conn, if_exists='replace', index=False)\n",
    "shootouts.to_sql('shootouts', conn, if_exists='replace', index=False)\n",
    "\n",
    "# Adăugare coloane 'day', 'month' și 'year' în tabela 'results', dacă nu există deja\n",
    "cursor.execute(\"\"\"\n",
    "    PRAGMA table_info(results);\n",
    "\"\"\")\n",
    "columns = cursor.fetchall()\n",
    "column_names = [column[1] for column in columns]\n",
    "if 'day' not in column_names:\n",
    "    cursor.execute(\"\"\"\n",
    "        ALTER TABLE results\n",
    "        ADD COLUMN day INTEGER;\n",
    "    \"\"\")\n",
    "if 'month' not in column_names:\n",
    "    cursor.execute(\"\"\"\n",
    "        ALTER TABLE results\n",
    "        ADD COLUMN month INTEGER;\n",
    "    \"\"\")\n",
    "if 'year' not in column_names:\n",
    "    cursor.execute(\"\"\"\n",
    "        ALTER TABLE results\n",
    "        ADD COLUMN year INTEGER;\n",
    "    \"\"\")\n",
    "\n",
    "# Adăugare coloane 'day', 'month' și 'year' în tabela 'shootouts', dacă nu există deja\n",
    "cursor.execute(\"\"\"\n",
    "    PRAGMA table_info(shootouts);\n",
    "\"\"\")\n",
    "columns = cursor.fetchall()\n",
    "column_names = [column[1] for column in columns]\n",
    "if 'day' not in column_names:\n",
    "    cursor.execute(\"\"\"\n",
    "        ALTER TABLE shootouts\n",
    "        ADD COLUMN day INTEGER;\n",
    "    \"\"\")\n",
    "if 'month' not in column_names:\n",
    "    cursor.execute(\"\"\"\n",
    "        ALTER TABLE shootouts\n",
    "        ADD COLUMN month INTEGER;\n",
    "    \"\"\")\n",
    "if 'year' not in column_names:\n",
    "    cursor.execute(\"\"\"\n",
    "        ALTER TABLE shootouts\n",
    "        ADD COLUMN year INTEGER;\n",
    "    \"\"\")\n",
    "\n",
    "\n",
    "# Salvează modificările în baza de date\n",
    "conn.commit()\n",
    "\n",
    "#inchidem conexiunea la baza de date\n",
    "conn.close()"
   ],
   "metadata": {
    "collapsed": false,
    "ExecuteTime": {
     "end_time": "2024-04-16T15:09:44.460269Z",
     "start_time": "2024-04-16T15:09:44.321324Z"
    }
   },
   "id": "2f403994aababaf1",
   "execution_count": 10
  },
  {
   "cell_type": "code",
   "outputs": [],
   "source": [
    "def extract_date_info(date_str):\n",
    "    try:\n",
    "        month, day, year = map(int, date_str.split('/'))\n",
    "        if year >= 1900:\n",
    "            return day, month, year\n",
    "    except ValueError:\n",
    "        pass\n",
    "\n",
    "    match = re.match(r'(\\d{1,2})-(\\d{1,2})-(\\d{4})', date_str)\n",
    "    if match:\n",
    "        groups = match.groups()\n",
    "        month, day, year = map(int, (groups[0], groups[1], groups[2]))\n",
    "        return day, month, year\n",
    "\n",
    "    match = re.match(r'(\\d{4})-(\\d{2})-(\\d{2})', date_str)\n",
    "    if match:\n",
    "        groups = match.groups()\n",
    "        year, month, day = map(int, (groups[0], groups[1], groups[2]))\n",
    "        return day, month, year\n",
    "\n",
    "    return None, None, None\n",
    "\n",
    "# Conectare la baza de date\n",
    "conn = sqlite3.connect('football.db')\n",
    "cursor = conn.cursor()\n",
    "\n",
    "# Actualizează valorile pentru coloanele 'day', 'month', 'year' folosind datele extrase\n",
    "cursor.execute(\"SELECT date FROM results;\")\n",
    "dates = cursor.fetchall()\n",
    "\n",
    "for date_row in dates:\n",
    "    date_str = date_row[0]\n",
    "    day, month, year = extract_date_info(date_str)\n",
    "    cursor.execute(\"UPDATE results SET day=?, month=?, year=? WHERE date=?\", (day, month, year, date_str))\n",
    "\n",
    "# Actualizează valorile pentru coloanele 'day', 'month', 'year' pentru tabela 'shootouts'\n",
    "cursor.execute(\"SELECT date FROM shootouts;\")\n",
    "dates_shootouts = cursor.fetchall()\n",
    "\n",
    "for date_row in dates_shootouts:\n",
    "    date_str = date_row[0]\n",
    "    day, month, year = extract_date_info(date_str)\n",
    "    cursor.execute(\"UPDATE shootouts SET day=?, month=?, year=? WHERE date=?\", (day, month, year, date_str))\n",
    "\n",
    "cursor.execute(\"ALTER TABLE results DROP COLUMN date\")\n",
    "cursor.execute(\"ALTER TABLE shootouts DROP COLUMN date\")\n",
    "\n",
    "# Actualizare coloana 'first_shooter' cu valoarea 'Necunoscut' pentru celulele 'null'\n",
    "cursor.execute(\"UPDATE shootouts SET first_shooter='Necunoscut' WHERE first_shooter IS NULL\")\n",
    "\n",
    "conn.commit() # Salvează modificarile în baza de date\n",
    "\n",
    "# Închide conexiunea la baza de date\n",
    "conn.close()"
   ],
   "metadata": {
    "collapsed": false,
    "ExecuteTime": {
     "end_time": "2024-04-16T15:11:48.970211Z",
     "start_time": "2024-04-16T15:09:44.461269Z"
    }
   },
   "id": "53f49b91b5e03111",
   "execution_count": 11
  },
  {
   "cell_type": "code",
   "outputs": [],
   "source": [
    "# Conectare la baza de date\n",
    "conn = sqlite3.connect('football.db')\n",
    "\n",
    "# Citirea datelor din tabelele results și shootouts\n",
    "df_results = pd.read_sql('SELECT * FROM results', conn)\n",
    "df_shootouts = pd.read_sql('SELECT * FROM shootouts', conn)\n",
    "\n",
    "# Închidere conexiune la baza de date\n",
    "conn.close()"
   ],
   "metadata": {
    "collapsed": false,
    "ExecuteTime": {
     "end_time": "2024-04-16T15:44:32.438791Z",
     "start_time": "2024-04-16T15:44:32.260791Z"
    }
   },
   "id": "b32ba69f846bcf33",
   "execution_count": 13
  },
  {
   "cell_type": "code",
   "outputs": [],
   "source": [],
   "metadata": {
    "collapsed": false
   },
   "id": "760ef79192a31251"
  }
 ],
 "metadata": {
  "kernelspec": {
   "display_name": "Python 3",
   "language": "python",
   "name": "python3"
  },
  "language_info": {
   "codemirror_mode": {
    "name": "ipython",
    "version": 2
   },
   "file_extension": ".py",
   "mimetype": "text/x-python",
   "name": "python",
   "nbconvert_exporter": "python",
   "pygments_lexer": "ipython2",
   "version": "2.7.6"
  }
 },
 "nbformat": 4,
 "nbformat_minor": 5
}
