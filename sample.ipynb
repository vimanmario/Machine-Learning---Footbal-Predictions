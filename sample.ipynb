{
 "cells": [
  {
   "cell_type": "code",
   "execution_count": 16,
   "id": "initial_id",
   "metadata": {
    "collapsed": true,
    "ExecuteTime": {
     "end_time": "2024-04-17T13:52:50.724756Z",
     "start_time": "2024-04-17T13:52:50.717758Z"
    }
   },
   "outputs": [],
   "source": [
    "import pandas as pd\n",
    "import sqlite3\n",
    "import re\n",
    "import numpy as np\n",
    "import matplotlib.pyplot as plt"
   ]
  },
  {
   "cell_type": "code",
   "outputs": [],
   "source": [
    "#incarcam datele\n",
    "results = pd.read_csv(\"results.csv\")\n",
    "shootouts = pd.read_csv(\"shootouts.csv\")"
   ],
   "metadata": {
    "collapsed": false,
    "ExecuteTime": {
     "end_time": "2024-04-17T11:15:11.643387Z",
     "start_time": "2024-04-17T11:15:11.566380Z"
    }
   },
   "id": "c0aae26fd0c30a05",
   "execution_count": 2
  },
  {
   "cell_type": "code",
   "outputs": [],
   "source": [
    "def connect_to_database(database_name):\n",
    "    conn = sqlite3.connect(database_name)\n",
    "    cursor = conn.cursor()\n",
    "    return conn, cursor\n",
    "\n",
    "# Conectare la baza de date\n",
    "conn, cursor = connect_to_database('football.db')\n",
    "\n",
    "results.to_sql('results',conn, if_exists='replace', index=False)\n",
    "shootouts.to_sql('shootouts', conn, if_exists='replace', index=False)\n",
    "\n",
    "# Adăugare coloane 'day', 'month' și 'year' în tabela 'results', dacă nu există deja\n",
    "cursor.execute(\"\"\"\n",
    "    PRAGMA table_info(results);\n",
    "\"\"\")\n",
    "columns = cursor.fetchall()\n",
    "column_names = [column[1] for column in columns]\n",
    "if 'day' not in column_names:\n",
    "    cursor.execute(\"\"\"\n",
    "        ALTER TABLE results\n",
    "        ADD COLUMN day INTEGER;\n",
    "    \"\"\")\n",
    "if 'month' not in column_names:\n",
    "    cursor.execute(\"\"\"\n",
    "        ALTER TABLE results\n",
    "        ADD COLUMN month INTEGER;\n",
    "    \"\"\")\n",
    "if 'year' not in column_names:\n",
    "    cursor.execute(\"\"\"\n",
    "        ALTER TABLE results\n",
    "        ADD COLUMN year INTEGER;\n",
    "    \"\"\")\n",
    "\n",
    "# Adăugare coloane 'day', 'month' și 'year' în tabela 'shootouts', dacă nu există deja\n",
    "cursor.execute(\"\"\"\n",
    "    PRAGMA table_info(shootouts);\n",
    "\"\"\")\n",
    "columns = cursor.fetchall()\n",
    "column_names = [column[1] for column in columns]\n",
    "if 'day' not in column_names:\n",
    "    cursor.execute(\"\"\"\n",
    "        ALTER TABLE shootouts\n",
    "        ADD COLUMN day INTEGER;\n",
    "    \"\"\")\n",
    "if 'month' not in column_names:\n",
    "    cursor.execute(\"\"\"\n",
    "        ALTER TABLE shootouts\n",
    "        ADD COLUMN month INTEGER;\n",
    "    \"\"\")\n",
    "if 'year' not in column_names:\n",
    "    cursor.execute(\"\"\"\n",
    "        ALTER TABLE shootouts\n",
    "        ADD COLUMN year INTEGER;\n",
    "    \"\"\")\n",
    "\n",
    "\n",
    "# Salvează modificările în baza de date\n",
    "conn.commit()\n",
    "\n",
    "#inchidem conexiunea la baza de date\n",
    "conn.close()"
   ],
   "metadata": {
    "collapsed": false,
    "ExecuteTime": {
     "end_time": "2024-04-17T11:15:11.783387Z",
     "start_time": "2024-04-17T11:15:11.644380Z"
    }
   },
   "id": "2f403994aababaf1",
   "execution_count": 3
  },
  {
   "cell_type": "code",
   "outputs": [],
   "source": [
    "def extract_date_info(date_str):\n",
    "    try:\n",
    "        month, day, year = map(int, date_str.split('/'))\n",
    "        if year >= 1900:\n",
    "            return day, month, year\n",
    "    except ValueError:\n",
    "        pass\n",
    "\n",
    "    match = re.match(r'(\\d{1,2})-(\\d{1,2})-(\\d{4})', date_str)\n",
    "    if match:\n",
    "        groups = match.groups()\n",
    "        month, day, year = map(int, (groups[0], groups[1], groups[2]))\n",
    "        return day, month, year\n",
    "\n",
    "    match = re.match(r'(\\d{4})-(\\d{2})-(\\d{2})', date_str)\n",
    "    if match:\n",
    "        groups = match.groups()\n",
    "        year, month, day = map(int, (groups[0], groups[1], groups[2]))\n",
    "        return day, month, year\n",
    "\n",
    "    return None, None, None\n",
    "\n",
    "# Conectare la baza de date\n",
    "conn = sqlite3.connect('football.db')\n",
    "cursor = conn.cursor()\n",
    "\n",
    "# Actualizează valorile pentru coloanele 'day', 'month', 'year' folosind datele extrase\n",
    "cursor.execute(\"SELECT date FROM results;\")\n",
    "dates = cursor.fetchall()\n",
    "\n",
    "for date_row in dates:\n",
    "    date_str = date_row[0]\n",
    "    day, month, year = extract_date_info(date_str)\n",
    "    cursor.execute(\"UPDATE results SET day=?, month=?, year=? WHERE date=?\", (day, month, year, date_str))\n",
    "\n",
    "# Actualizează valorile pentru coloanele 'day', 'month', 'year' pentru tabela 'shootouts'\n",
    "cursor.execute(\"SELECT date FROM shootouts;\")\n",
    "dates_shootouts = cursor.fetchall()\n",
    "\n",
    "for date_row in dates_shootouts:\n",
    "    date_str = date_row[0]\n",
    "    day, month, year = extract_date_info(date_str)\n",
    "    cursor.execute(\"UPDATE shootouts SET day=?, month=?, year=? WHERE date=?\", (day, month, year, date_str))\n",
    "\n",
    "cursor.execute(\"ALTER TABLE results DROP COLUMN date\")\n",
    "cursor.execute(\"ALTER TABLE shootouts DROP COLUMN date\")\n",
    "\n",
    "# Actualizare coloana 'first_shooter' cu valoarea 'Necunoscut' pentru celulele 'null'\n",
    "cursor.execute(\"UPDATE shootouts SET first_shooter='Necunoscut' WHERE first_shooter IS NULL\")\n",
    "\n",
    "conn.commit() # Salvează modificarile în baza de date\n",
    "\n",
    "# Închide conexiunea la baza de date\n",
    "conn.close()"
   ],
   "metadata": {
    "collapsed": false,
    "ExecuteTime": {
     "end_time": "2024-04-17T11:17:11.310192Z",
     "start_time": "2024-04-17T11:15:11.784380Z"
    }
   },
   "id": "53f49b91b5e03111",
   "execution_count": 4
  },
  {
   "cell_type": "code",
   "outputs": [
    {
     "name": "stdout",
     "output_type": "stream",
     "text": [
      "  home_team away_team  home_score  away_score tournament     city   country  \\\n",
      "0  Scotland   England           0           0   Friendly  Glasgow  Scotland   \n",
      "1   England  Scotland           4           2   Friendly   London   England   \n",
      "2  Scotland   England           2           1   Friendly  Glasgow  Scotland   \n",
      "3   England  Scotland           2           2   Friendly   London   England   \n",
      "4  Scotland   England           3           0   Friendly  Glasgow  Scotland   \n",
      "\n",
      "   neutral  day  month  year  home_team_code  away_team_code  country_code  \\\n",
      "0        0   30     11  1872             100             101           100   \n",
      "1        0    8      3  1873             101             100           101   \n",
      "2        0    7      3  1874             100             101           100   \n",
      "3        0    6      3  1875             101             100           101   \n",
      "4        0    4      3  1876             100             101           100   \n",
      "\n",
      "   tournament_code  city_code  \n",
      "0              427        590  \n",
      "1              427        591  \n",
      "2              427        590  \n",
      "3              427        591  \n",
      "4              427        590  \n",
      "     home_team         away_team       winner first_shooter  day  month  year  \\\n",
      "0        India            Taiwan       Taiwan    Necunoscut   22      8  1967   \n",
      "1  South Korea  Vietnam Republic  South Korea    Necunoscut   14     11  1971   \n",
      "2  South Korea              Iraq         Iraq    Necunoscut    7      5  1972   \n",
      "3     Thailand       South Korea  South Korea    Necunoscut   17      5  1972   \n",
      "4     Thailand          Cambodia     Thailand    Necunoscut   19      5  1972   \n",
      "\n",
      "   home_team_code  away_team_code  winner_code  first_shooter_code  \n",
      "0             186             225          225                 668  \n",
      "1             206             230          206                 668  \n",
      "2             206             251          251                 668  \n",
      "3             241             206          206                 668  \n",
      "4             241             227          241                 668  \n"
     ]
    }
   ],
   "source": [
    "conn = sqlite3.connect('football.db')\n",
    "\n",
    "df_results = pd.read_sql('SELECT * FROM results', conn)\n",
    "df_shootouts = pd.read_sql('SELECT * FROM shootouts', conn)\n",
    "\n",
    "def assign_unique_codes(df, column, start_code):\n",
    "    unique_codes = {}\n",
    "    code = start_code\n",
    "    for value in df[column].unique():\n",
    "        if pd.notnull(value):  # Ignorăm valorile NaN\n",
    "            unique_codes[value] = code\n",
    "            code += 1  # Incrementăm codul pentru următoarea valoare unică\n",
    "    return unique_codes, code # Returnam si ultimul cod utilizat\n",
    "\n",
    "# Atribuim coduri unice pentru coloana 'home_team'\n",
    "unique_codes_home_team, code = assign_unique_codes(df_results, 'home_team', 100)\n",
    "\n",
    "# Aplicăm aceleași coduri unice pentru coloanele 'away_team' și 'country'\n",
    "df_results['home_team_code'] = df_results['home_team'].map(unique_codes_home_team)\n",
    "df_results['away_team_code'] = df_results['away_team'].map(unique_codes_home_team)\n",
    "df_results['country_code'] = df_results['country'].map(unique_codes_home_team)\n",
    "\n",
    "# Remediem valorile de tip float din 'away_team_code' și 'country_code' folosind fillna()\n",
    "df_results['away_team_code'] = df_results['away_team_code'].fillna(df_results['home_team_code'])\n",
    "df_results['country_code'] = df_results['country_code'].fillna(df_results['home_team_code'])\n",
    "\n",
    "# Convertim valorile din coloanele 'away_team_code' și 'country_code' la întreg\n",
    "df_results['away_team_code'] = df_results['away_team_code'].astype(int)\n",
    "df_results['country_code'] = df_results['country_code'].astype(int)\n",
    "\n",
    "\n",
    "# Atribuim coduri unice pentru coloana 'tournament', pornind de la valoarea maximă existentă\n",
    "unique_codes_tournament, code = assign_unique_codes(df_results, 'tournament', code)\n",
    "df_results['tournament_code'] = df_results['tournament'].map(unique_codes_tournament)\n",
    "\n",
    "# Inițializăm coloana 'city_code' cu valori nule\n",
    "df_results['city_code'] = np.nan\n",
    "\n",
    "# Atribuim coduri unice pentru coloana 'city', pornind de la valoarea maximă existentă\n",
    "unique_codes_city, _ = assign_unique_codes(df_results, 'city', code)\n",
    "df_results['city_code'] = df_results['city'].map(unique_codes_city)\n",
    "\n",
    "# Pentru tabela shootouts\n",
    "# Atribuirea codurilor pentru coloanele home_team, away_team, winner\n",
    "df_shootouts['home_team_code'] = df_shootouts['home_team'].map(unique_codes_home_team)\n",
    "df_shootouts['away_team_code'] = df_shootouts['away_team'].map(unique_codes_home_team)\n",
    "df_shootouts['winner_code'] = df_shootouts['winner'].map(unique_codes_home_team)\n",
    "\n",
    "_, code = assign_unique_codes(df_shootouts, 'first_shooter', code)\n",
    "unique_codes_first_shooter, _ = assign_unique_codes(df_shootouts, 'first_shooter', code)\n",
    "df_shootouts['first_shooter_code'] = df_shootouts['first_shooter'].map(unique_codes_first_shooter)\n",
    "\n",
    "# Afisăm primele câteva rânduri din DataFrame-ul modificat\n",
    "print(df_results.head())\n",
    "print(df_shootouts.head())\n",
    "\n",
    "conn.close()\n"
   ],
   "metadata": {
    "collapsed": false,
    "ExecuteTime": {
     "end_time": "2024-04-17T15:09:31.605914Z",
     "start_time": "2024-04-17T15:09:31.393907Z"
    }
   },
   "id": "b32ba69f846bcf33",
   "execution_count": 36
  },
  {
   "cell_type": "code",
   "outputs": [],
   "source": [],
   "metadata": {
    "collapsed": false,
    "ExecuteTime": {
     "end_time": "2024-04-17T13:50:06.245893Z",
     "start_time": "2024-04-17T13:50:06.238862Z"
    }
   },
   "id": "760ef79192a31251",
   "execution_count": 14
  },
  {
   "cell_type": "code",
   "outputs": [],
   "source": [],
   "metadata": {
    "collapsed": false,
    "ExecuteTime": {
     "end_time": "2024-04-17T11:17:11.512263Z",
     "start_time": "2024-04-17T11:17:11.498216Z"
    }
   },
   "id": "c3e31c21dee83df7",
   "execution_count": 5
  },
  {
   "cell_type": "code",
   "outputs": [],
   "source": [],
   "metadata": {
    "collapsed": false,
    "ExecuteTime": {
     "end_time": "2024-04-17T11:17:11.528290Z",
     "start_time": "2024-04-17T11:17:11.513216Z"
    }
   },
   "id": "17c9519dd8103daf",
   "execution_count": 5
  }
 ],
 "metadata": {
  "kernelspec": {
   "display_name": "Python 3",
   "language": "python",
   "name": "python3"
  },
  "language_info": {
   "codemirror_mode": {
    "name": "ipython",
    "version": 2
   },
   "file_extension": ".py",
   "mimetype": "text/x-python",
   "name": "python",
   "nbconvert_exporter": "python",
   "pygments_lexer": "ipython2",
   "version": "2.7.6"
  }
 },
 "nbformat": 4,
 "nbformat_minor": 5
}
