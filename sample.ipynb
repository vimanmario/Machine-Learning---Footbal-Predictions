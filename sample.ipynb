{
 "cells": [
  {
   "cell_type": "code",
   "execution_count": 1,
   "id": "initial_id",
   "metadata": {
    "collapsed": true,
    "ExecuteTime": {
     "end_time": "2024-04-13T12:55:51.466764Z",
     "start_time": "2024-04-13T12:55:50.901737Z"
    }
   },
   "outputs": [],
   "source": [
    "import pandas as pd\n",
    "import sqlite3\n",
    "\n",
    "#incarcam datele\n",
    "results = pd.read_csv(\"results.csv\")\n",
    "shootouts = pd.read_csv(\"shootouts.csv\")"
   ]
  },
  {
   "cell_type": "code",
   "outputs": [],
   "source": [],
   "metadata": {
    "collapsed": false,
    "ExecuteTime": {
     "end_time": "2024-04-02T19:08:53.277523Z",
     "start_time": "2024-04-02T19:08:53.265419Z"
    }
   },
   "id": "c0aae26fd0c30a05",
   "execution_count": 2
  },
  {
   "cell_type": "code",
   "outputs": [],
   "source": [
    "def connect_to_database(database_name):\n",
    "    conn = sqlite3.connect(database_name)\n",
    "    cursor = conn.cursor()\n",
    "    return conn, cursor\n",
    "\n",
    "# Conectare la baza de date\n",
    "conn, cursor = connect_to_database('football.db')\n",
    "\n",
    "results.to_sql('results',conn, if_exists='replace', index=False)\n",
    "shootouts.to_sql('shootouts', conn, if_exists='replace', index=False)\n",
    "\n",
    "# Adăugare coloane 'day', 'month' și 'year' în tabela 'results', dacă nu există deja\n",
    "cursor.execute(\"\"\"\n",
    "    PRAGMA table_info(results);\n",
    "\"\"\")\n",
    "columns = cursor.fetchall()\n",
    "column_names = [column[1] for column in columns]\n",
    "if 'day' not in column_names:\n",
    "    cursor.execute(\"\"\"\n",
    "        ALTER TABLE results\n",
    "        ADD COLUMN day INTEGER;\n",
    "    \"\"\")\n",
    "if 'month' not in column_names:\n",
    "    cursor.execute(\"\"\"\n",
    "        ALTER TABLE results\n",
    "        ADD COLUMN month INTEGER;\n",
    "    \"\"\")\n",
    "if 'year' not in column_names:\n",
    "    cursor.execute(\"\"\"\n",
    "        ALTER TABLE results\n",
    "        ADD COLUMN year INTEGER;\n",
    "    \"\"\")\n",
    "\n",
    "# Adăugare coloane 'day', 'month' și 'year' în tabela 'shootouts', dacă nu există deja\n",
    "cursor.execute(\"\"\"\n",
    "    PRAGMA table_info(shootouts);\n",
    "\"\"\")\n",
    "columns = cursor.fetchall()\n",
    "column_names = [column[1] for column in columns]\n",
    "if 'day' not in column_names:\n",
    "    cursor.execute(\"\"\"\n",
    "        ALTER TABLE shootouts\n",
    "        ADD COLUMN day INTEGER;\n",
    "    \"\"\")\n",
    "if 'month' not in column_names:\n",
    "    cursor.execute(\"\"\"\n",
    "        ALTER TABLE shootouts\n",
    "        ADD COLUMN month INTEGER;\n",
    "    \"\"\")\n",
    "if 'year' not in column_names:\n",
    "    cursor.execute(\"\"\"\n",
    "        ALTER TABLE shootouts\n",
    "        ADD COLUMN year INTEGER;\n",
    "    \"\"\")\n",
    "\n",
    "\n",
    "# Salvează modificările în baza de date\n",
    "conn.commit()\n",
    "\n",
    "#inchidem conexiunea la baza de date\n",
    "conn.close()"
   ],
   "metadata": {
    "collapsed": false,
    "ExecuteTime": {
     "end_time": "2024-04-13T16:44:48.342554Z",
     "start_time": "2024-04-13T16:44:48.188548Z"
    }
   },
   "id": "2f403994aababaf1",
   "execution_count": 33
  },
  {
   "cell_type": "code",
   "outputs": [],
   "source": [
    "import re\n",
    "import sqlite3\n",
    "\n",
    "def extract_date_info(date_str):\n",
    "    try:\n",
    "        month, day, year = map(int, date_str.split('/'))\n",
    "        if year >= 1900:\n",
    "            return day, month, year\n",
    "    except ValueError:\n",
    "        pass\n",
    "\n",
    "    match = re.match(r'(\\d{1,2})-(\\d{1,2})-(\\d{4})', date_str)\n",
    "    if match:\n",
    "        groups = match.groups()\n",
    "        month, day, year = map(int, (groups[0], groups[1], groups[2]))\n",
    "        return day, month, year\n",
    "\n",
    "    match = re.match(r'(\\d{4})-(\\d{2})-(\\d{2})', date_str)\n",
    "    if match:\n",
    "        groups = match.groups()\n",
    "        year, month, day = map(int, (groups[0], groups[1], groups[2]))\n",
    "        return day, month, year\n",
    "\n",
    "    return None, None, None\n",
    "\n",
    "# Conectare la baza de date\n",
    "conn = sqlite3.connect('football.db')\n",
    "cursor = conn.cursor()\n",
    "\n",
    "# Actualizează valorile pentru coloanele 'day', 'month', 'year' folosind datele extrase\n",
    "cursor.execute(\"SELECT date FROM results;\")\n",
    "dates = cursor.fetchall()\n",
    "\n",
    "for date_row in dates:\n",
    "    date_str = date_row[0]\n",
    "    day, month, year = extract_date_info(date_str)\n",
    "    cursor.execute(\"UPDATE results SET day=?, month=?, year=? WHERE date=?\", (day, month, year, date_str))\n",
    "\n",
    "conn.commit() # Salvează modificarile în baza de date\n",
    "\n",
    "# Închide conexiunea la baza de date\n",
    "conn.close()"
   ],
   "metadata": {
    "collapsed": false,
    "ExecuteTime": {
     "end_time": "2024-04-13T18:55:01.132862Z",
     "start_time": "2024-04-13T18:52:47.674832Z"
    }
   },
   "id": "53f49b91b5e03111",
   "execution_count": 62
  },
  {
   "cell_type": "code",
   "outputs": [],
   "source": [],
   "metadata": {
    "collapsed": false,
    "ExecuteTime": {
     "end_time": "2024-04-13T18:47:29.157915Z",
     "start_time": "2024-04-13T18:47:29.142885Z"
    }
   },
   "id": "b32ba69f846bcf33",
   "execution_count": 60
  }
 ],
 "metadata": {
  "kernelspec": {
   "display_name": "Python 3",
   "language": "python",
   "name": "python3"
  },
  "language_info": {
   "codemirror_mode": {
    "name": "ipython",
    "version": 2
   },
   "file_extension": ".py",
   "mimetype": "text/x-python",
   "name": "python",
   "nbconvert_exporter": "python",
   "pygments_lexer": "ipython2",
   "version": "2.7.6"
  }
 },
 "nbformat": 4,
 "nbformat_minor": 5
}
