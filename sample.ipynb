{
 "cells": [
  {
   "cell_type": "code",
   "execution_count": 2,
   "id": "initial_id",
   "metadata": {
    "collapsed": true,
    "ExecuteTime": {
     "end_time": "2024-04-02T19:08:53.262419Z",
     "start_time": "2024-04-02T19:08:52.904419Z"
    }
   },
   "outputs": [],
   "source": [
    "import pandas as pd\n",
    "import sqlite3\n",
    "\n",
    "#incarcam datele\n",
    "results = pd.read_csv(\"results.csv\")\n",
    "goalscorers = pd.read_csv(\"goalscorers.csv\")\n",
    "shootouts = pd.read_csv(\"shootouts.csv\")"
   ]
  },
  {
   "cell_type": "code",
   "outputs": [],
   "source": [],
   "metadata": {
    "collapsed": false,
    "ExecuteTime": {
     "end_time": "2024-04-02T19:08:53.277523Z",
     "start_time": "2024-04-02T19:08:53.265419Z"
    }
   },
   "id": "c0aae26fd0c30a05",
   "execution_count": 2
  },
  {
   "cell_type": "code",
   "outputs": [],
   "source": [
    "def connect_to_database(database_name):\n",
    "    conn = sqlite3.connect(database_name)\n",
    "    cursor = conn.cursor()\n",
    "    return conn, cursor\n",
    "\n",
    "# Conectare la baza de date\n",
    "conn, cursor = connect_to_database('football.db')\n",
    "\n",
    "results.to_sql('results',conn, if_exists='replace', index=False)\n",
    "goalscorers.to_sql('goalscorers',conn, if_exists='replace', index=False)\n",
    "shootouts.to_sql('shootouts', conn, if_exists='replace', index=False)\n",
    "\n",
    "#inchidem conexiunea la baza de date\n",
    "conn.close()"
   ],
   "metadata": {
    "collapsed": false,
    "ExecuteTime": {
     "end_time": "2024-04-02T19:08:53.548425Z",
     "start_time": "2024-04-02T19:08:53.278454Z"
    }
   },
   "id": "2f403994aababaf1",
   "execution_count": 3
  },
  {
   "cell_type": "code",
   "outputs": [],
   "source": [
    "    "
   ],
   "metadata": {
    "collapsed": false
   },
   "id": "53f49b91b5e03111"
  }
 ],
 "metadata": {
  "kernelspec": {
   "display_name": "Python 3",
   "language": "python",
   "name": "python3"
  },
  "language_info": {
   "codemirror_mode": {
    "name": "ipython",
    "version": 2
   },
   "file_extension": ".py",
   "mimetype": "text/x-python",
   "name": "python",
   "nbconvert_exporter": "python",
   "pygments_lexer": "ipython2",
   "version": "2.7.6"
  }
 },
 "nbformat": 4,
 "nbformat_minor": 5
}
